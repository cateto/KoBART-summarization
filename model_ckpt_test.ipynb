{
 "cells": [
  {
   "cell_type": "code",
   "execution_count": 9,
   "metadata": {},
   "outputs": [
    {
     "name": "stderr",
     "output_type": "stream",
     "text": [
      "You passed along `num_labels=3` with an incompatible id to label map: {'0': 'NEGATIVE', '1': 'POSITIVE'}. The number of labels wil be overwritten to 2.\n"
     ]
    },
    {
     "data": {
      "text/plain": [
       "'튀르키예 지진 261시간만에 남성 2명 극적 구조'"
      ]
     },
     "execution_count": 9,
     "metadata": {},
     "output_type": "execute_result"
    }
   ],
   "source": [
    "import torch\n",
    "from transformers import PreTrainedTokenizerFast\n",
    "# from kobart import get_kobart_tokenizer\n",
    "from transformers import BartForConditionalGeneration\n",
    "\n",
    "tokenizer = PreTrainedTokenizerFast.from_pretrained('digit82/kobart-summarization')\n",
    "model = BartForConditionalGeneration.from_pretrained('/home/woohyun/som/git/KoBART-summarization/kobart_summary')\n",
    "\n",
    "text = \"\"\"\n",
    "260시간 만에 10대 소년 구조…258시간만에도 여성 발견\n",
    "\n",
    "17일(현지시간) 튀르키예 지진 261시간 만에 남성 2명이 구조됐다. 사진은 야전 병원에서 치료 받고 있는 해당 남성 (파레틴 코카 트위터 갈무리)\n",
    "17일(현지시간) 튀르키예 지진 261시간 만에 남성 2명이 구조됐다. 사진은 야전 병원에서 치료 받고 있는 해당 남성 (파레틴 코카 트위터 갈무리)\n",
    "© 뉴스1\n",
    "(서울=뉴스1) 박재하 기자 = 17일(현지시간) 튀르키예(터키) 남부에서 남성 2명이 대지진 발생 261시간만에 기적적으로 구조됐다고 CNN튀르크가 보도했다.\n",
    "보도에 따르면 대지진으로 인한 피해가 가장 심각한 곳으로 꼽히는 튀르키예 하타이주의 한 병원 잔해 속에서 남성 2명이 지진 261시간 만에 구조됐다. 이들은 즉시 인근 야전 병원으로 이송돼 치료를 받고 있다.\n",
    "\n",
    "이날 지진 발생 260시간 만에 10대 소년 오스만도 하타이에서 극적 구조됐다. 파레틴 코카 튀르키예 보건부 장관은 트위터에 \"모두의 치열한 노력의 결과로 현재 병원에서 치료가 이뤄지고 있다\"고 전했다.\n",
    "\n",
    "카흐라만마라슈에서도 258시간 만에 29세 여성이 건물 잔해 속에서 구조됐다는 소식이 들려왔다. 구조작업에 참여했던 아드난 에스는 \"침대가 보여서 당겼더니 누군가 손을 들어올렸다\"며 \"너무 놀라 말을 잇지 못했다\"고 구조 당시의 감격을 현지 언론 사바에 전했다.\n",
    "\n",
    "이날 튀르키예 대지진 사망자수가 3만6369명으로 늘어나면서 시리아를 포함한 누적 사망자수는 4만2183명으로 집계됐다.\n",
    "\n",
    "튀르키예 현지에선 마지막까지 생존자를 구출하기 위한 필사적인 구조 작업이 이어지고 있는 가운데, 전날까지도 열흘을 넘게 버틴 생존자가 구출되는 등 기적 같은 소식이 전해졌다.\n",
    "\n",
    "jaeha67@news1.kr\n",
    "\n",
    "Copyright ⓒ 뉴스1. All rights reserved. 무단 전재 및 재배포 금지.\n",
    "\"\"\"\n",
    "\n",
    "text = text.replace('\\n', ' ')\n",
    "\n",
    "raw_input_ids = tokenizer.encode(text)\n",
    "input_ids = [tokenizer.bos_token_id] + raw_input_ids + [tokenizer.eos_token_id]\n",
    "\n",
    "summary_ids = model.generate(torch.tensor([input_ids]),  num_beams=4,  max_length=1024,  eos_token_id=1)\n",
    "tokenizer.decode(summary_ids.squeeze().tolist(), skip_special_tokens=True)"
   ]
  },
  {
   "cell_type": "code",
   "execution_count": null,
   "metadata": {},
   "outputs": [],
   "source": []
  }
 ],
 "metadata": {
  "kernelspec": {
   "display_name": "Python 3",
   "language": "python",
   "name": "python3"
  },
  "language_info": {
   "codemirror_mode": {
    "name": "ipython",
    "version": 3
   },
   "file_extension": ".py",
   "mimetype": "text/x-python",
   "name": "python",
   "nbconvert_exporter": "python",
   "pygments_lexer": "ipython3",
   "version": "3.8.10"
  },
  "orig_nbformat": 4,
  "vscode": {
   "interpreter": {
    "hash": "916dbcbb3f70747c44a77c7bcd40155683ae19c65e1c03b4aa3499c5328201f1"
   }
  }
 },
 "nbformat": 4,
 "nbformat_minor": 2
}
